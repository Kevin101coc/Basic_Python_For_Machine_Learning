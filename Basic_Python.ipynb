{
  "nbformat": 4,
  "nbformat_minor": 0,
  "metadata": {
    "colab": {
      "provenance": [],
      "authorship_tag": "ABX9TyOSeSPvAaw1UNo5vu6gibxn",
      "include_colab_link": true
    },
    "kernelspec": {
      "name": "python3",
      "display_name": "Python 3"
    },
    "language_info": {
      "name": "python"
    }
  },
  "cells": [
    {
      "cell_type": "markdown",
      "metadata": {
        "id": "view-in-github",
        "colab_type": "text"
      },
      "source": [
        "<a href=\"https://colab.research.google.com/github/Kevin101coc/Basic_Python_For_Machine_Learning/blob/main/Basic_Python.ipynb\" target=\"_parent\"><img src=\"https://colab.research.google.com/assets/colab-badge.svg\" alt=\"Open In Colab\"/></a>"
      ]
    },
    {
      "cell_type": "markdown",
      "source": [
        "# Introduction to `Python`\n",
        "\n",
        "First Program : Display a Hello"
      ],
      "metadata": {
        "id": "p6dsMnOl6-kc"
      }
    },
    {
      "cell_type": "code",
      "source": [
        "print(\"Hello\")"
      ],
      "metadata": {
        "colab": {
          "base_uri": "https://localhost:8080/"
        },
        "id": "ZRcjXcK5794M",
        "outputId": "c3b72a2f-2728-4ab3-fb0c-0691f3ea3fa8"
      },
      "execution_count": 1,
      "outputs": [
        {
          "output_type": "stream",
          "name": "stdout",
          "text": [
            "Hello\n"
          ]
        }
      ]
    },
    {
      "cell_type": "markdown",
      "source": [
        ">Program to Assign an Integer and Display it"
      ],
      "metadata": {
        "id": "vRvY_1Dv9RpH"
      }
    },
    {
      "cell_type": "code",
      "source": [
        "a=10\n",
        "print(\"The value of the variable a is\",a)"
      ],
      "metadata": {
        "colab": {
          "base_uri": "https://localhost:8080/"
        },
        "id": "khxOgqAF84Or",
        "outputId": "37991107-adfa-452d-b728-30303bbe9530"
      },
      "execution_count": 4,
      "outputs": [
        {
          "output_type": "stream",
          "name": "stdout",
          "text": [
            "The value of the variable a is 10\n"
          ]
        }
      ]
    },
    {
      "cell_type": "markdown",
      "source": [
        ">Program to Find the Sum of Two Numbers"
      ],
      "metadata": {
        "id": "AkDjA7Ov9o_a"
      }
    },
    {
      "cell_type": "code",
      "source": [
        "a=5\n",
        "b=5\n",
        "sum=a+b\n",
        "print(\"The sum of a and b is\",sum)"
      ],
      "metadata": {
        "colab": {
          "base_uri": "https://localhost:8080/"
        },
        "id": "xXsPBUJp9nYz",
        "outputId": "d501065a-d240-453d-da5a-4f1fb314bdc2"
      },
      "execution_count": 6,
      "outputs": [
        {
          "output_type": "stream",
          "name": "stdout",
          "text": [
            "The sum of a and b is 10\n"
          ]
        }
      ]
    },
    {
      "cell_type": "markdown",
      "source": [
        ">Program to Read Two Numbers From the User and Find The Sum"
      ],
      "metadata": {
        "id": "zQGHaRbH-SGy"
      }
    },
    {
      "cell_type": "code",
      "source": [
        "# Readind the first value\n",
        "a = int(input(\"Enter the first number : \"))\n",
        "\n",
        "# Reading the second number\n",
        "b = int(input(\"Enter the second number : \"))\n",
        "\n",
        "# Adding the two numbers\n",
        "sum = a+b\n",
        "\n",
        "# Displaying sum\n",
        "print(\"The sum of the two number is\",sum)"
      ],
      "metadata": {
        "colab": {
          "base_uri": "https://localhost:8080/"
        },
        "id": "AOz3k20X-eBL",
        "outputId": "4d5e1088-945e-48cb-f6d5-d4f455462427"
      },
      "execution_count": 13,
      "outputs": [
        {
          "output_type": "stream",
          "name": "stdout",
          "text": [
            "Enter the first number : 5\n",
            "Enter the second number : 5\n",
            "The sum of the two number is 10\n"
          ]
        }
      ]
    }
  ]
}